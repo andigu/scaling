{
 "cells": [
  {
   "cell_type": "code",
   "execution_count": 35,
   "id": "7aee9b33-9491-4669-8711-0c4a8af92d4d",
   "metadata": {},
   "outputs": [],
   "source": [
    "import torch\n",
    "import torch.nn as nn\n",
    "import torch.sparse as sp"
   ]
  },
  {
   "cell_type": "code",
   "execution_count": 36,
   "id": "a801963b-816c-487d-ab01-c725d6c85762",
   "metadata": {},
   "outputs": [],
   "source": [
    "from simulate import Algorithm, BivariateBicycle, NoiseModel, CodeFactory, StimSimulator, LogicalCircuit\n",
    "import pandas as pd\n",
    "import numpy as np\n",
    "import torch\n",
    "from torch.utils.data import IterableDataset\n",
    "from torch_geometric.data import Data\n",
    "import math\n",
    "from functools import lru_cache\n",
    "\n",
    "\n",
    "class BivariateBicycleDataset(IterableDataset):\n",
    "    \"\"\"\n",
    "    PyTorch IterableDataset for bivariate bicycle code error correction data.\n",
    "    \n",
    "    Generates batches of bivariate bicycle code detector measurements and corresponding \n",
    "    logical error labels for training graph neural network decoders.\n",
    "    \n",
    "    Supports 3-stage curriculum learning with automatic p adjustment.\n",
    "    \"\"\"\n",
    "    \n",
    "    def __init__(self, l=6, m=6, rounds_max=9, p=2.0, batch_size=32, \n",
    "                 stage_manager=None, num_workers=8, global_step_offset=0, **kwargs):\n",
    "        \"\"\"\n",
    "        Args:\n",
    "            l: BB code parameter l\n",
    "            m: BB code parameter m\n",
    "            rounds_max: Maximum number of error correction rounds\n",
    "            p: Default error probability parameter (used when stage_manager is None)\n",
    "            batch_size: Batch size for generated data\n",
    "            stage_manager: StageManager instance for curriculum learning (optional)\n",
    "            num_workers: Total number of DataLoader workers (for step estimation)\n",
    "            global_step_offset: Starting global step offset (for resuming)\n",
    "        \"\"\"\n",
    "        super().__init__()\n",
    "        self.default_p = p\n",
    "        self.batch_size = batch_size\n",
    "        self.l = l\n",
    "        self.m = m\n",
    "        self.rounds_max = rounds_max\n",
    "        self.stage_manager = stage_manager\n",
    "        self.num_workers = num_workers\n",
    "        self.global_step_offset = global_step_offset\n",
    "        \n",
    "        # Track local worker sample count (will be set in each worker)\n",
    "        self.local_sample_count = 0\n",
    "        \n",
    "        # Build static code graph structure (independent of rounds)\n",
    "        self._static_graph_structure = self._build_static_graph_structure()\n",
    "    \n",
    "    def get_num_relations(self):\n",
    "        \"\"\"Get the total number of relation types (static + temporal).\"\"\"\n",
    "        num_static_edge_types = len(self._static_graph_structure['all_edge_types'])\n",
    "        return num_static_edge_types * 3  # 3 for temporal connections [-1, 0, 1]\n",
    "    \n",
    "    def get_num_logical_qubits(self):\n",
    "        \"\"\"Get the number of logical qubits encoded by this BB code.\"\"\"\n",
    "        # logical_operators is a numpy structured array with fields: logical_id, logical_pauli, data_id, physical_pauli\n",
    "        # logical_id goes from 0 to k-1 where k is the number of logical qubits\n",
    "        logical_ops = self._static_graph_structure['metadata'].logical_operators\n",
    "        return np.max(logical_ops['logical_id']) + 1\n",
    "    \n",
    "    def _estimate_global_step(self) -> int:\n",
    "        \"\"\"Estimate current global step from worker-local sample count.\"\"\"\n",
    "        return self.global_step_offset + (self.local_sample_count * self.num_workers)\n",
    "    \n",
    "    def get_current_p(self) -> float:\n",
    "        \"\"\"Get current p value based on stage manager or default.\"\"\"\n",
    "        if self.stage_manager is not None:\n",
    "            estimated_step = self._estimate_global_step()\n",
    "            return self.stage_manager.get_current_p(estimated_step)\n",
    "        else:\n",
    "            return self.default_p\n",
    "    \n",
    "    def _build_static_graph_structure(self):\n",
    "        \"\"\"Build the static BB code graph structure (independent of rounds).\"\"\"\n",
    "        # Create BB code metadata\n",
    "        cf = CodeFactory(BivariateBicycle, {'l': self.l, 'm': self.m})\n",
    "        metadata = cf().metadata\n",
    "        \n",
    "        # Build tanner graph - this creates edges between checks and data\n",
    "        tanner = pd.DataFrame(metadata.tanner)\n",
    "        \n",
    "        # Create check-to-check graph as in bb-test.ipynb\n",
    "        c2c = tanner.merge(tanner, on='data_id')[['check_id_x', 'check_id_y', 'edge_type_x', 'edge_type_y']]\n",
    "        all_edge_types = []\n",
    "        graph_edges = []\n",
    "        \n",
    "        for (c1, c2), df in c2c.groupby(['check_id_x', 'check_id_y']):\n",
    "            edge_types = df[['edge_type_x', 'edge_type_y']].to_numpy()\n",
    "            edge_types = frozenset([tuple(map(int, x)) for x in edge_types])\n",
    "            if edge_types not in all_edge_types:\n",
    "                all_edge_types.append(edge_types)\n",
    "            c1, c2 = map(int, (c1, c2))\n",
    "            graph_edges.append((c1, c2, all_edge_types.index(edge_types)))\n",
    "        \n",
    "        graph_df = pd.DataFrame(graph_edges, columns=['syndrome_id', 'neighbor_syndrome_id', 'edge_type'])\n",
    "        \n",
    "        return {\n",
    "            'graph_df': graph_df,\n",
    "            'all_edge_types': all_edge_types,\n",
    "            'metadata': metadata\n",
    "        }\n",
    "    \n",
    "    def _build_spatiotemporal_graph_structure(self, rounds, mt):\n",
    "        \"\"\"Build the spatiotemporal graph structure using the static graph and temporal connections.\n",
    "        \n",
    "        Args:\n",
    "            rounds: Number of error correction rounds\n",
    "            mt: MeasurementTracker from the LogicalCircuit (contains detector metadata)\n",
    "        \"\"\"\n",
    "        # Use pre-computed static structure\n",
    "        graph_df = self._static_graph_structure['graph_df']\n",
    "        all_edge_types = self._static_graph_structure['all_edge_types']\n",
    "        \n",
    "        # Get actual detector metadata from measurement tracker\n",
    "        det = pd.DataFrame(mt.detectors)\n",
    "        \n",
    "        det_graph = det.merge(graph_df, on='syndrome_id').merge(\n",
    "            det, left_on='neighbor_syndrome_id', right_on='syndrome_id', suffixes=('', '_nb')\n",
    "        )\n",
    "        \n",
    "        # Filter temporal connections (allow connections within 1 time step)\n",
    "        det_graph = det_graph[np.abs(det_graph['time'] - det_graph['time_nb']) <= 1]\n",
    "        \n",
    "        # Encode temporal information in edge types\n",
    "        dt = det_graph['time_nb'] - det_graph['time'] + 1  # Maps [-1, 0, 1] to [0, 1, 2]\n",
    "        det_graph['final_edge_type'] = dt * len(all_edge_types) + det_graph['edge_type']\n",
    "        \n",
    "        # Create final edge list\n",
    "        det_graph = det_graph.sort_values(by=['detector_id', 'detector_id_nb', 'final_edge_type'])\n",
    "        edge_index = det_graph[['detector_id', 'detector_id_nb']].values.T\n",
    "        edge_attr = det_graph['final_edge_type'].values\n",
    "        \n",
    "        return {\n",
    "            'edge_index': edge_index,\n",
    "            'edge_attr': edge_attr,\n",
    "            'num_nodes': len(det),\n",
    "            'num_edge_types': (len(all_edge_types) * 3),  # 3 for temporal [-1, 0, 1]\n",
    "            'det_df': det,\n",
    "            'nb_counts': det_graph.groupby('detector_id')['detector_id_nb'].count().values,\n",
    "            'det_graph': det_graph\n",
    "        }\n",
    "    \n",
    "    @staticmethod\n",
    "    def generate_batch(l, m, rounds_max, p, batch_size):\n",
    "        \"\"\"Generate a single batch of bivariate bicycle code data.\"\"\"\n",
    "        rounds = np.random.randint(1, rounds_max + 1)\n",
    "        batch_size = math.floor(batch_size * rounds_max / rounds)\n",
    "        \n",
    "        # Create BB code circuit\n",
    "        alg = Algorithm.build_memory(cycles=rounds)\n",
    "        cf = CodeFactory(BivariateBicycle, {'l': l, 'm': m})\n",
    "        lc, _, mt = LogicalCircuit.from_algorithm(alg, cf)\n",
    "        noise_model = NoiseModel.get_scaled_noise_model(p).without_loss()\n",
    "        sim = StimSimulator(alg, noise_model, cf, seed=np.random.randint(0, 2**48))\n",
    "        \n",
    "        # Sample syndrome data\n",
    "        results = sim.sample(shots=batch_size)\n",
    "        detectors = results.detectors\n",
    "        logical_errors = results.logical_errors\n",
    "        \n",
    "        return detectors, logical_errors, (rounds, p), mt\n",
    "    \n",
    "    def __iter__(self):\n",
    "        \"\"\"Generate infinite stream of bivariate bicycle code data batches.\"\"\"\n",
    "        worker_info = torch.utils.data.get_worker_info()\n",
    "        if worker_info is not None:\n",
    "            worker_id = worker_info.id if hasattr(worker_info, 'id') else 'unknown'\n",
    "        else: \n",
    "            worker_id = 'main'\n",
    "            np.random.seed(0)\n",
    "        \n",
    "        # Reset local sample count for this worker\n",
    "        self.local_sample_count = 0\n",
    "        \n",
    "        while True:\n",
    "            # Calculate current p based on estimated global step\n",
    "            current_p = self.get_current_p()\n",
    "            \n",
    "            # Generate batch with current curriculum p value\n",
    "            detectors, logical_errors, (rounds, p), mt = self.generate_batch(\n",
    "                self.l, self.m, self.rounds_max, current_p, self.batch_size\n",
    "            )\n",
    "            graph_structure = self._build_spatiotemporal_graph_structure(rounds, mt)\n",
    "            edge_indices, edge_types = graph_structure['edge_index'], graph_structure['edge_attr'] # (2, |E|), (|E|, )\n",
    "            batch_size, num_nodes = detectors.shape\n",
    "            edge_indices = (edge_indices[..., None] + np.arange(batch_size)[None, None, :] * num_nodes).reshape((2, -1)).astype(np.int32)\n",
    "            edge_types = np.repeat(edge_types[:, None], batch_size, axis=1).reshape(-1).astype(np.int32)\n",
    "            detectors = detectors.astype(np.int32)\n",
    "            yield (detectors, edge_indices, edge_types), np.squeeze(logical_errors.astype(np.float32), axis=1), (rounds, p)\n",
    "\n",
    "            # Increment local sample count after generating batch\n",
    "            self.local_sample_count += 1"
   ]
  },
  {
   "cell_type": "code",
   "execution_count": 50,
   "id": "8f057237-e137-487f-9904-0498a68d9f5f",
   "metadata": {},
   "outputs": [
    {
     "name": "stdout",
     "output_type": "stream",
     "text": [
      "2\n"
     ]
    }
   ],
   "source": [
    "ds = BivariateBicycleDataset(l=6, m=6, rounds_max=30)\n",
    "batch_size = 1\n",
    "detectors, logical_errors, (rounds, p), mt = ds.generate_batch(\n",
    "    ds.l, ds.m, ds.rounds_max, 1.0, batch_size\n",
    ")\n",
    "print(rounds)\n",
    "graph_structure = ds._build_spatiotemporal_graph_structure(rounds, mt)\n",
    "edge_indices, edge_types = graph_structure['edge_index'], graph_structure['edge_attr'] # (2, |E|), (|E|, )\n",
    "nb_counts = graph_structure['nb_counts']\n",
    "embedding_dim = 12\n",
    "num_nodes = detectors.shape[1]"
   ]
  },
  {
   "cell_type": "code",
   "execution_count": 100,
   "id": "7a8810c8-7e62-485d-b680-5b7e7f46b31d",
   "metadata": {},
   "outputs": [
    {
     "data": {
      "text/plain": [
       "[<matplotlib.lines.Line2D at 0x14bc9e632600>]"
      ]
     },
     "execution_count": 100,
     "metadata": {},
     "output_type": "execute_result"
    },
    {
     "data": {
      "image/png": "[encoded data removed]",
      "text/plain": [
       "<Figure size 640x480 with 1 Axes>"
      ]
     },
     "metadata": {},
     "output_type": "display_data"
    }
   ],
   "source": [
    "det = pd.DataFrame(mt.detectors)\n",
    "t0 = det[det['time'] == 1].copy()\n",
    "t0['time'] = 0\n",
    "t0['detector_id'] = -1\n",
    "tf = det[det['time'] == det['time'].max()]\n",
    "opposite_basis = t0[~t0['syndrome_id'].isin(tf['syndrome_id'].values)].copy()\n",
    "opposite_basis['time'] = det['time'].max()\n",
    "tf2 = t0.copy()\n",
    "tf2['time'] = det['time'].max()+1\n",
    "det = pd.concat([t0, det, opposite_basis, tf2]).sort_values(by=['time', 'syndrome_id']).reset_index(drop=True)\n",
    "\n",
    "graph_df = ds._static_graph_structure['graph_df']\n",
    "all_edge_types = ds._static_graph_structure['all_edge_types']\n",
    "det_graph = det.merge(graph_df, on='syndrome_id').merge(\n",
    "    det, left_on='neighbor_syndrome_id', right_on='syndrome_id', suffixes=('', '_nb')\n",
    ")\n",
    "\n",
    "# Filter temporal connections (allow connections within 1 time step)\n",
    "det_graph = det_graph[np.abs(det_graph['time'] - det_graph['time_nb']) <= 1]\n",
    "\n",
    "# Encode temporal information in edge types\n",
    "dt = det_graph['time_nb'] - det_graph['time'] + 1  # Maps [-1, 0, 1] to [0, 1, 2]\n",
    "det_graph['final_edge_type'] = dt * len(all_edge_types) + det_graph['edge_type']\n",
    "\n",
    "actual_graph = det_graph[det_graph['detector_id'] != -1]\n",
    "actual_graph = actual_graph.sort_values(['detector_id', 'final_edge_type'])\n",
    "\n",
    "edge_types = []\n",
    "for det_id, grp in actual_graph.groupby('detector_id'):\n",
    "    edge_types.append(tuple(grp['final_edge_type'].values))\n",
    "\n",
    "edge_types = Counter(edge_types)\n",
    "keys = list(edge_types.keys())\n",
    "plt.plot(keys[0])\n",
    "plt.plot(keys[1])"
   ]
  },
  {
   "cell_type": "code",
   "execution_count": 51,
   "id": "b7ed819e-7b8a-4fb6-aa52-7e3f54473a88",
   "metadata": {},
   "outputs": [
    {
     "data": {
      "text/plain": [
       "[<matplotlib.lines.Line2D at 0x14bca2046ab0>]"
      ]
     },
     "execution_count": 51,
     "metadata": {},
     "output_type": "execute_result"
    },
    {
     "data": {
      "image/png": "[encoded data removed]",
      "text/plain": [
       "<Figure size 640x480 with 1 Axes>"
      ]
     },
     "metadata": {},
     "output_type": "display_data"
    }
   ],
   "source": [
    "from collections import Counter\n",
    "from matplotlib import pyplot as plt\n",
    "edge_types = []\n",
    "for det_id, grp in graph_structure['det_graph'].groupby('detector_id'):\n",
    "    edge_types.append(tuple(sorted(grp['final_edge_type'].values)))\n",
    "edge_types = Counter(edge_types)\n",
    "tmp = {k: v for k, v in edge_types.items() if v > 10}\n",
    "tmp = list(tmp.keys())\n",
    "\n",
    "plt.plot(tmp[0])\n",
    "plt.plot(np.array(tmp[1])-14)"
   ]
  },
  {
   "cell_type": "code",
   "execution_count": 3,
   "id": "b96fccba-c534-40da-83d4-4dcec68b27a0",
   "metadata": {},
   "outputs": [
    {
     "name": "stdout",
     "output_type": "stream",
     "text": [
      "1\n",
      "torch.cuda.memory_allocated: 0.000166GB\n",
      "torch.cuda.memory_reserved: 0.001953GB\n",
      "torch.cuda.max_memory_reserved: 0.001953GB\n",
      "torch.Size([10, 100]) torch.float32\n",
      "tensor(0.6359, device='cuda:0', grad_fn=<MeanBackward0>)\n",
      "torch.cuda.memory_allocated: 0.008493GB\n",
      "torch.cuda.memory_reserved: 0.021484GB\n",
      "torch.cuda.max_memory_reserved: 0.021484GB\n"
     ]
    },
    {
     "name": "stderr",
     "output_type": "stream",
     "text": [
      "/tmp/ipykernel_3686851/3156490106.py:28: UserWarning: Sparse BSR tensor support is in beta state. If you miss a functionality in the sparse tensor support, please submit a feature request to https://github.com/pytorch/pytorch/issues. (Triggered internally at /pytorch/aten/src/ATen/SparseCsrTensorImpl.cpp:53.)\n",
      "  bsr = torch.sparse_bsr_tensor(crow, edge_indices[1], values=matrices, requires_grad=True) # (out_nodes*out_dim) x (in_nodes*in_dim)\n"
     ]
    }
   ],
   "source": [
    "\n",
    "\n",
    "# emb = nn.Parameter(torch.randn(ds.get_num_relations(), embedding_dim, embedding_dim, device='cuda'))\n",
    "emb = nn.Embedding(ds.get_num_relations(), embedding_dim*embedding_dim, device='cuda', sparse=True)\n",
    "node_features = torch.randn((100, num_nodes, embedding_dim), device='cuda', dtype=torch.float32).flatten(start_dim=1).T\n",
    "\n",
    "torch.cuda.empty_cache()\n",
    "# with torch.autocast(device_type=\"cuda\", dtype=torch.bfloat16):\n",
    "print(\"torch.cuda.memory_allocated: %fGB\"%(torch.cuda.memory_allocated(0)/1024/1024/1024))\n",
    "print(\"torch.cuda.memory_reserved: %fGB\"%(torch.cuda.memory_reserved(0)/1024/1024/1024))\n",
    "print(\"torch.cuda.max_memory_reserved: %fGB\"%(torch.cuda.max_memory_reserved(0)/1024/1024/1024))\n",
    "edge_indices, edge_types, nb_counts = [torch.from_numpy(x).cuda().int() for x in [edge_indices, edge_types, nb_counts]]\n",
    "# matrices = emb[edge_types]\n",
    "matrices = emb(edge_types).view(-1, embedding_dim, embedding_dim)\n",
    "\n",
    "crow = F.pad(torch.cumsum(nb_counts, dim=0), pad=(1,0))\n",
    "bsr = torch.sparse_bsr_tensor(crow, edge_indices[1], values=matrices, requires_grad=True) # (out_nodes*out_dim) x (in_nodes*in_dim)\n",
    "bsr = torch.randn((10, node_features.shape[0]), requires_grad=True, device='cuda').to_sparse()\n",
    "\n",
    "# ret = bsr @ node_features\n",
    "ret = torch.sparse.mm(bsr, node_features)\n",
    "loss = ret.mean()\n",
    "print(ret.shape, ret.dtype)\n",
    "print(loss)\n",
    "loss.backward()\n",
    "\n",
    "print(\"torch.cuda.memory_allocated: %fGB\"%(torch.cuda.memory_allocated(0)/1024/1024/1024))\n",
    "print(\"torch.cuda.memory_reserved: %fGB\"%(torch.cuda.memory_reserved(0)/1024/1024/1024))\n",
    "print(\"torch.cuda.max_memory_reserved: %fGB\"%(torch.cuda.max_memory_reserved(0)/1024/1024/1024))\n"
   ]
  },
  {
   "cell_type": "code",
   "execution_count": 4,
   "id": "bff38ea0-241c-4b54-a6a6-cacd7da4bc76",
   "metadata": {},
   "outputs": [
    {
     "name": "stdout",
     "output_type": "stream",
     "text": [
      "torch.float32 torch.float32\n"
     ]
    },
    {
     "ename": "OutOfMemoryError",
     "evalue": "CUDA out of memory. Tried to allocate 22.86 GiB. GPU 0 has a total capacity of 19.62 GiB of which 5.11 GiB is free. Including non-PyTorch memory, this process has 14.40 GiB memory in use. Of the allocated memory 12.48 GiB is allocated by PyTorch, and 1.71 GiB is reserved by PyTorch but unallocated. If reserved but unallocated memory is large try setting PYTORCH_CUDA_ALLOC_CONF=expandable_segments:True to avoid fragmentation.  See documentation for Memory Management  (https://pytorch.org/docs/stable/notes/cuda.html#environment-variables)",
     "output_type": "error",
     "traceback": [
      "\u001b[31m---------------------------------------------------------------------------\u001b[39m",
      "\u001b[31mOutOfMemoryError\u001b[39m                          Traceback (most recent call last)",
      "\u001b[36mCell\u001b[39m\u001b[36m \u001b[39m\u001b[32mIn[4]\u001b[39m\u001b[32m, line 40\u001b[39m\n\u001b[32m     38\u001b[39m     loss.backward()\n\u001b[32m     39\u001b[39m     \u001b[38;5;28;01mreturn\u001b[39;00m emb.grad\n\u001b[32m---> \u001b[39m\u001b[32m40\u001b[39m \u001b[43mf\u001b[49m\u001b[43m(\u001b[49m\u001b[43m)\u001b[49m\n",
      "\u001b[36mCell\u001b[39m\u001b[36m \u001b[39m\u001b[32mIn[4]\u001b[39m\u001b[32m, line 38\u001b[39m, in \u001b[36mf\u001b[39m\u001b[34m()\u001b[39m\n\u001b[32m     36\u001b[39m loss = ret.mean()\n\u001b[32m     37\u001b[39m     \u001b[38;5;66;03m# print(ret.shape, ret.dtype)\u001b[39;00m\n\u001b[32m---> \u001b[39m\u001b[32m38\u001b[39m \u001b[43mloss\u001b[49m\u001b[43m.\u001b[49m\u001b[43mbackward\u001b[49m\u001b[43m(\u001b[49m\u001b[43m)\u001b[49m\n\u001b[32m     39\u001b[39m \u001b[38;5;28;01mreturn\u001b[39;00m emb.grad\n",
      "\u001b[36mFile \u001b[39m\u001b[32m~/tmp/algorithms-decoder/.venv/lib/python3.12/site-packages/torch/_tensor.py:648\u001b[39m, in \u001b[36mTensor.backward\u001b[39m\u001b[34m(self, gradient, retain_graph, create_graph, inputs)\u001b[39m\n\u001b[32m    638\u001b[39m \u001b[38;5;28;01mif\u001b[39;00m has_torch_function_unary(\u001b[38;5;28mself\u001b[39m):\n\u001b[32m    639\u001b[39m     \u001b[38;5;28;01mreturn\u001b[39;00m handle_torch_function(\n\u001b[32m    640\u001b[39m         Tensor.backward,\n\u001b[32m    641\u001b[39m         (\u001b[38;5;28mself\u001b[39m,),\n\u001b[32m   (...)\u001b[39m\u001b[32m    646\u001b[39m         inputs=inputs,\n\u001b[32m    647\u001b[39m     )\n\u001b[32m--> \u001b[39m\u001b[32m648\u001b[39m \u001b[43mtorch\u001b[49m\u001b[43m.\u001b[49m\u001b[43mautograd\u001b[49m\u001b[43m.\u001b[49m\u001b[43mbackward\u001b[49m\u001b[43m(\u001b[49m\n\u001b[32m    649\u001b[39m \u001b[43m    \u001b[49m\u001b[38;5;28;43mself\u001b[39;49m\u001b[43m,\u001b[49m\u001b[43m \u001b[49m\u001b[43mgradient\u001b[49m\u001b[43m,\u001b[49m\u001b[43m \u001b[49m\u001b[43mretain_graph\u001b[49m\u001b[43m,\u001b[49m\u001b[43m \u001b[49m\u001b[43mcreate_graph\u001b[49m\u001b[43m,\u001b[49m\u001b[43m \u001b[49m\u001b[43minputs\u001b[49m\u001b[43m=\u001b[49m\u001b[43minputs\u001b[49m\n\u001b[32m    650\u001b[39m \u001b[43m\u001b[49m\u001b[43m)\u001b[49m\n",
      "\u001b[36mFile \u001b[39m\u001b[32m~/tmp/algorithms-decoder/.venv/lib/python3.12/site-packages/torch/autograd/__init__.py:353\u001b[39m, in \u001b[36mbackward\u001b[39m\u001b[34m(tensors, grad_tensors, retain_graph, create_graph, grad_variables, inputs)\u001b[39m\n\u001b[32m    348\u001b[39m     retain_graph = create_graph\n\u001b[32m    350\u001b[39m \u001b[38;5;66;03m# The reason we repeat the same comment below is that\u001b[39;00m\n\u001b[32m    351\u001b[39m \u001b[38;5;66;03m# some Python versions print out the first line of a multi-line function\u001b[39;00m\n\u001b[32m    352\u001b[39m \u001b[38;5;66;03m# calls in the traceback and some print out the last line\u001b[39;00m\n\u001b[32m--> \u001b[39m\u001b[32m353\u001b[39m \u001b[43m_engine_run_backward\u001b[49m\u001b[43m(\u001b[49m\n\u001b[32m    354\u001b[39m \u001b[43m    \u001b[49m\u001b[43mtensors\u001b[49m\u001b[43m,\u001b[49m\n\u001b[32m    355\u001b[39m \u001b[43m    \u001b[49m\u001b[43mgrad_tensors_\u001b[49m\u001b[43m,\u001b[49m\n\u001b[32m    356\u001b[39m \u001b[43m    \u001b[49m\u001b[43mretain_graph\u001b[49m\u001b[43m,\u001b[49m\n\u001b[32m    357\u001b[39m \u001b[43m    \u001b[49m\u001b[43mcreate_graph\u001b[49m\u001b[43m,\u001b[49m\n\u001b[32m    358\u001b[39m \u001b[43m    \u001b[49m\u001b[43minputs\u001b[49m\u001b[43m,\u001b[49m\n\u001b[32m    359\u001b[39m \u001b[43m    \u001b[49m\u001b[43mallow_unreachable\u001b[49m\u001b[43m=\u001b[49m\u001b[38;5;28;43;01mTrue\u001b[39;49;00m\u001b[43m,\u001b[49m\n\u001b[32m    360\u001b[39m \u001b[43m    \u001b[49m\u001b[43maccumulate_grad\u001b[49m\u001b[43m=\u001b[49m\u001b[38;5;28;43;01mTrue\u001b[39;49;00m\u001b[43m,\u001b[49m\n\u001b[32m    361\u001b[39m \u001b[43m\u001b[49m\u001b[43m)\u001b[49m\n",
      "\u001b[36mFile \u001b[39m\u001b[32m~/tmp/algorithms-decoder/.venv/lib/python3.12/site-packages/torch/autograd/graph.py:824\u001b[39m, in \u001b[36m_engine_run_backward\u001b[39m\u001b[34m(t_outputs, *args, **kwargs)\u001b[39m\n\u001b[32m    822\u001b[39m     unregister_hooks = _register_logging_hooks_on_whole_graph(t_outputs)\n\u001b[32m    823\u001b[39m \u001b[38;5;28;01mtry\u001b[39;00m:\n\u001b[32m--> \u001b[39m\u001b[32m824\u001b[39m     \u001b[38;5;28;01mreturn\u001b[39;00m \u001b[43mVariable\u001b[49m\u001b[43m.\u001b[49m\u001b[43m_execution_engine\u001b[49m\u001b[43m.\u001b[49m\u001b[43mrun_backward\u001b[49m\u001b[43m(\u001b[49m\u001b[43m  \u001b[49m\u001b[38;5;66;43;03m# Calls into the C++ engine to run the backward pass\u001b[39;49;00m\n\u001b[32m    825\u001b[39m \u001b[43m        \u001b[49m\u001b[43mt_outputs\u001b[49m\u001b[43m,\u001b[49m\u001b[43m \u001b[49m\u001b[43m*\u001b[49m\u001b[43margs\u001b[49m\u001b[43m,\u001b[49m\u001b[43m \u001b[49m\u001b[43m*\u001b[49m\u001b[43m*\u001b[49m\u001b[43mkwargs\u001b[49m\n\u001b[32m    826\u001b[39m \u001b[43m    \u001b[49m\u001b[43m)\u001b[49m  \u001b[38;5;66;03m# Calls into the C++ engine to run the backward pass\u001b[39;00m\n\u001b[32m    827\u001b[39m \u001b[38;5;28;01mfinally\u001b[39;00m:\n\u001b[32m    828\u001b[39m     \u001b[38;5;28;01mif\u001b[39;00m attach_logging_hooks:\n",
      "\u001b[31mOutOfMemoryError\u001b[39m: CUDA out of memory. Tried to allocate 22.86 GiB. GPU 0 has a total capacity of 19.62 GiB of which 5.11 GiB is free. Including non-PyTorch memory, this process has 14.40 GiB memory in use. Of the allocated memory 12.48 GiB is allocated by PyTorch, and 1.71 GiB is reserved by PyTorch but unallocated. If reserved but unallocated memory is large try setting PYTORCH_CUDA_ALLOC_CONF=expandable_segments:True to avoid fragmentation.  See documentation for Memory Management  (https://pytorch.org/docs/stable/notes/cuda.html#environment-variables)"
     ]
    }
   ],
   "source": [
    "%load_ext line_profiler\n",
    "import torch.nn.functional as F\n",
    "ds = BivariateBicycleDataset(l=6, m=6, rounds_max=9)\n",
    "batch_size = 1\n",
    "detectors, logical_errors, (rounds, p), mt = ds.generate_batch(\n",
    "    ds.l, ds.m, ds.rounds_max, 1.0, batch_size\n",
    ")\n",
    "\n",
    "graph_structure = ds._build_spatiotemporal_graph_structure(rounds, mt)\n",
    "edge_indices, edge_types = graph_structure['edge_index'], graph_structure['edge_attr'] # (2, |E|), (|E|, )\n",
    "nb_counts = graph_structure['nb_counts']\n",
    "embedding_dim = 64\n",
    "num_nodes = detectors.shape[1]\n",
    "\n",
    "node_features = torch.randn((batch_size, num_nodes, embedding_dim), device='cuda', dtype=torch.float32).flatten(start_dim=1).T\n",
    "\n",
    "torch.cuda.empty_cache()\n",
    "# with torch.autocast(device_type=\"cuda\", dtype=torch.bfloat16):\n",
    "edge_indices, edge_types, nb_counts = [torch.from_numpy(x).cuda().int() for x in [edge_indices, edge_types, nb_counts]]\n",
    "# matrices = emb[edge_types]\n",
    "\n",
    "def f():\n",
    "    emb = nn.Parameter(torch.randn(ds.get_num_relations(), embedding_dim*embedding_dim, dtype=torch.float32, device='cuda'), requires_grad=True)\n",
    "    # with torch.autocast(device_type=\"cuda\", dtype=torch.float16):\n",
    "    matrices = emb[edge_types].flatten()\n",
    "    row_index = ((edge_indices[0] * embedding_dim)[:,None] + torch.arange(embedding_dim, device=edge_indices.device, dtype=torch.int32)[None,:])\n",
    "    col_index = ((edge_indices[1] * embedding_dim)[:,None] + torch.arange(embedding_dim, device=edge_indices.device, dtype=torch.int32)[None,:])\n",
    "    row_index = row_index[...,None].expand((-1,-1,embedding_dim)).flatten()\n",
    "    col_index = col_index[:,None,:].expand((-1,embedding_dim,-1)).flatten()\n",
    "\n",
    "    s = torch.sparse_coo_tensor(torch.stack([row_index, col_index], dim=0), matrices, (num_nodes*embedding_dim, num_nodes*embedding_dim), requires_grad=True, device='cuda')\n",
    "    print(s.dtype, node_features.dtype)\n",
    "    ret = s @ node_features\n",
    "\n",
    "    loss = ret.mean()\n",
    "        # print(ret.shape, ret.dtype)\n",
    "    loss.backward()\n",
    "    return emb.grad\n",
    "f()"
   ]
  },
  {
   "cell_type": "code",
   "execution_count": 17,
   "id": "918f3a66-91f7-40b1-84bd-5fa496f22bc0",
   "metadata": {},
   "outputs": [
    {
     "name": "stdout",
     "output_type": "stream",
     "text": [
      "torch.float32 torch.float32\n"
     ]
    },
    {
     "ename": "RuntimeError",
     "evalue": "to(options) doesn't support converting to a different layout, but got self.layout being Strided and options.layout set as SparseCsr",
     "output_type": "error",
     "traceback": [
      "\u001b[31m---------------------------------------------------------------------------\u001b[39m",
      "\u001b[31mRuntimeError\u001b[39m                              Traceback (most recent call last)",
      "\u001b[36mCell\u001b[39m\u001b[36m \u001b[39m\u001b[32mIn[17]\u001b[39m\u001b[32m, line 1\u001b[39m\n\u001b[32m----> \u001b[39m\u001b[32m1\u001b[39m \u001b[43mget_ipython\u001b[49m\u001b[43m(\u001b[49m\u001b[43m)\u001b[49m\u001b[43m.\u001b[49m\u001b[43mrun_line_magic\u001b[49m\u001b[43m(\u001b[49m\u001b[33;43m'\u001b[39;49m\u001b[33;43mlprun\u001b[39;49m\u001b[33;43m'\u001b[39;49m\u001b[43m,\u001b[49m\u001b[43m \u001b[49m\u001b[33;43m'\u001b[39;49m\u001b[33;43m-f f f()\u001b[39;49m\u001b[33;43m'\u001b[39;49m\u001b[43m)\u001b[49m\n",
      "\u001b[36mFile \u001b[39m\u001b[32m~/tmp/algorithms-decoder/.venv/lib/python3.12/site-packages/IPython/core/interactiveshell.py:2504\u001b[39m, in \u001b[36mInteractiveShell.run_line_magic\u001b[39m\u001b[34m(self, magic_name, line, _stack_depth)\u001b[39m\n\u001b[32m   2502\u001b[39m     kwargs[\u001b[33m'\u001b[39m\u001b[33mlocal_ns\u001b[39m\u001b[33m'\u001b[39m] = \u001b[38;5;28mself\u001b[39m.get_local_scope(stack_depth)\n\u001b[32m   2503\u001b[39m \u001b[38;5;28;01mwith\u001b[39;00m \u001b[38;5;28mself\u001b[39m.builtin_trap:\n\u001b[32m-> \u001b[39m\u001b[32m2504\u001b[39m     result = \u001b[43mfn\u001b[49m\u001b[43m(\u001b[49m\u001b[43m*\u001b[49m\u001b[43margs\u001b[49m\u001b[43m,\u001b[49m\u001b[43m \u001b[49m\u001b[43m*\u001b[49m\u001b[43m*\u001b[49m\u001b[43mkwargs\u001b[49m\u001b[43m)\u001b[49m\n\u001b[32m   2506\u001b[39m \u001b[38;5;66;03m# The code below prevents the output from being displayed\u001b[39;00m\n\u001b[32m   2507\u001b[39m \u001b[38;5;66;03m# when using magics with decorator @output_can_be_silenced\u001b[39;00m\n\u001b[32m   2508\u001b[39m \u001b[38;5;66;03m# when the last Python token in the expression is a ';'.\u001b[39;00m\n\u001b[32m   2509\u001b[39m \u001b[38;5;28;01mif\u001b[39;00m \u001b[38;5;28mgetattr\u001b[39m(fn, magic.MAGIC_OUTPUT_CAN_BE_SILENCED, \u001b[38;5;28;01mFalse\u001b[39;00m):\n",
      "\u001b[36mFile \u001b[39m\u001b[32m~/tmp/algorithms-decoder/.venv/lib/python3.12/site-packages/line_profiler/ipython_extension.py:130\u001b[39m, in \u001b[36mLineProfilerMagics.lprun\u001b[39m\u001b[34m(self, parameter_s)\u001b[39m\n\u001b[32m    128\u001b[39m \u001b[38;5;28;01mtry\u001b[39;00m:\n\u001b[32m    129\u001b[39m     \u001b[38;5;28;01mtry\u001b[39;00m:\n\u001b[32m--> \u001b[39m\u001b[32m130\u001b[39m         \u001b[43mprofile\u001b[49m\u001b[43m.\u001b[49m\u001b[43mrunctx\u001b[49m\u001b[43m(\u001b[49m\u001b[43marg_str\u001b[49m\u001b[43m,\u001b[49m\u001b[43m \u001b[49m\u001b[43mglobal_ns\u001b[49m\u001b[43m,\u001b[49m\u001b[43m \u001b[49m\u001b[43mlocal_ns\u001b[49m\u001b[43m)\u001b[49m\n\u001b[32m    131\u001b[39m         message = \u001b[33m\"\u001b[39m\u001b[33m\"\u001b[39m\n\u001b[32m    132\u001b[39m     \u001b[38;5;28;01mexcept\u001b[39;00m \u001b[38;5;167;01mSystemExit\u001b[39;00m:\n",
      "\u001b[36mFile \u001b[39m\u001b[32m~/tmp/algorithms-decoder/.venv/lib/python3.12/site-packages/line_profiler/line_profiler.py:185\u001b[39m, in \u001b[36mLineProfiler.runctx\u001b[39m\u001b[34m(self, cmd, globals, locals)\u001b[39m\n\u001b[32m    183\u001b[39m \u001b[38;5;28mself\u001b[39m.enable_by_count()\n\u001b[32m    184\u001b[39m \u001b[38;5;28;01mtry\u001b[39;00m:\n\u001b[32m--> \u001b[39m\u001b[32m185\u001b[39m     \u001b[43mexec\u001b[49m\u001b[43m(\u001b[49m\u001b[43mcmd\u001b[49m\u001b[43m,\u001b[49m\u001b[43m \u001b[49m\u001b[38;5;28;43mglobals\u001b[39;49m\u001b[43m,\u001b[49m\u001b[43m \u001b[49m\u001b[38;5;28;43mlocals\u001b[39;49m\u001b[43m)\u001b[49m\n\u001b[32m    186\u001b[39m \u001b[38;5;28;01mfinally\u001b[39;00m:\n\u001b[32m    187\u001b[39m     \u001b[38;5;28mself\u001b[39m.disable_by_count()\n",
      "\u001b[36mFile \u001b[39m\u001b[32m<string>:1\u001b[39m\n",
      "\u001b[36mCell\u001b[39m\u001b[36m \u001b[39m\u001b[32mIn[16]\u001b[39m\u001b[32m, line 38\u001b[39m, in \u001b[36mf\u001b[39m\u001b[34m()\u001b[39m\n\u001b[32m     36\u001b[39m     loss = ret.mean()\n\u001b[32m     37\u001b[39m     \u001b[38;5;66;03m# print(ret.shape, ret.dtype)\u001b[39;00m\n\u001b[32m---> \u001b[39m\u001b[32m38\u001b[39m \u001b[43mloss\u001b[49m\u001b[43m.\u001b[49m\u001b[43mbackward\u001b[49m\u001b[43m(\u001b[49m\u001b[43m)\u001b[49m\n\u001b[32m     39\u001b[39m \u001b[38;5;28;01mreturn\u001b[39;00m emb.grad\n",
      "\u001b[36mFile \u001b[39m\u001b[32m~/tmp/algorithms-decoder/.venv/lib/python3.12/site-packages/torch/_tensor.py:648\u001b[39m, in \u001b[36mTensor.backward\u001b[39m\u001b[34m(self, gradient, retain_graph, create_graph, inputs)\u001b[39m\n\u001b[32m    638\u001b[39m \u001b[38;5;28;01mif\u001b[39;00m has_torch_function_unary(\u001b[38;5;28mself\u001b[39m):\n\u001b[32m    639\u001b[39m     \u001b[38;5;28;01mreturn\u001b[39;00m handle_torch_function(\n\u001b[32m    640\u001b[39m         Tensor.backward,\n\u001b[32m    641\u001b[39m         (\u001b[38;5;28mself\u001b[39m,),\n\u001b[32m   (...)\u001b[39m\u001b[32m    646\u001b[39m         inputs=inputs,\n\u001b[32m    647\u001b[39m     )\n\u001b[32m--> \u001b[39m\u001b[32m648\u001b[39m \u001b[43mtorch\u001b[49m\u001b[43m.\u001b[49m\u001b[43mautograd\u001b[49m\u001b[43m.\u001b[49m\u001b[43mbackward\u001b[49m\u001b[43m(\u001b[49m\n\u001b[32m    649\u001b[39m \u001b[43m    \u001b[49m\u001b[38;5;28;43mself\u001b[39;49m\u001b[43m,\u001b[49m\u001b[43m \u001b[49m\u001b[43mgradient\u001b[49m\u001b[43m,\u001b[49m\u001b[43m \u001b[49m\u001b[43mretain_graph\u001b[49m\u001b[43m,\u001b[49m\u001b[43m \u001b[49m\u001b[43mcreate_graph\u001b[49m\u001b[43m,\u001b[49m\u001b[43m \u001b[49m\u001b[43minputs\u001b[49m\u001b[43m=\u001b[49m\u001b[43minputs\u001b[49m\n\u001b[32m    650\u001b[39m \u001b[43m\u001b[49m\u001b[43m)\u001b[49m\n",
      "\u001b[36mFile \u001b[39m\u001b[32m~/tmp/algorithms-decoder/.venv/lib/python3.12/site-packages/torch/autograd/__init__.py:353\u001b[39m, in \u001b[36mbackward\u001b[39m\u001b[34m(tensors, grad_tensors, retain_graph, create_graph, grad_variables, inputs)\u001b[39m\n\u001b[32m    348\u001b[39m     retain_graph = create_graph\n\u001b[32m    350\u001b[39m \u001b[38;5;66;03m# The reason we repeat the same comment below is that\u001b[39;00m\n\u001b[32m    351\u001b[39m \u001b[38;5;66;03m# some Python versions print out the first line of a multi-line function\u001b[39;00m\n\u001b[32m    352\u001b[39m \u001b[38;5;66;03m# calls in the traceback and some print out the last line\u001b[39;00m\n\u001b[32m--> \u001b[39m\u001b[32m353\u001b[39m \u001b[43m_engine_run_backward\u001b[49m\u001b[43m(\u001b[49m\n\u001b[32m    354\u001b[39m \u001b[43m    \u001b[49m\u001b[43mtensors\u001b[49m\u001b[43m,\u001b[49m\n\u001b[32m    355\u001b[39m \u001b[43m    \u001b[49m\u001b[43mgrad_tensors_\u001b[49m\u001b[43m,\u001b[49m\n\u001b[32m    356\u001b[39m \u001b[43m    \u001b[49m\u001b[43mretain_graph\u001b[49m\u001b[43m,\u001b[49m\n\u001b[32m    357\u001b[39m \u001b[43m    \u001b[49m\u001b[43mcreate_graph\u001b[49m\u001b[43m,\u001b[49m\n\u001b[32m    358\u001b[39m \u001b[43m    \u001b[49m\u001b[43minputs\u001b[49m\u001b[43m,\u001b[49m\n\u001b[32m    359\u001b[39m \u001b[43m    \u001b[49m\u001b[43mallow_unreachable\u001b[49m\u001b[43m=\u001b[49m\u001b[38;5;28;43;01mTrue\u001b[39;49;00m\u001b[43m,\u001b[49m\n\u001b[32m    360\u001b[39m \u001b[43m    \u001b[49m\u001b[43maccumulate_grad\u001b[49m\u001b[43m=\u001b[49m\u001b[38;5;28;43;01mTrue\u001b[39;49;00m\u001b[43m,\u001b[49m\n\u001b[32m    361\u001b[39m \u001b[43m\u001b[49m\u001b[43m)\u001b[49m\n",
      "\u001b[36mFile \u001b[39m\u001b[32m~/tmp/algorithms-decoder/.venv/lib/python3.12/site-packages/torch/autograd/graph.py:824\u001b[39m, in \u001b[36m_engine_run_backward\u001b[39m\u001b[34m(t_outputs, *args, **kwargs)\u001b[39m\n\u001b[32m    822\u001b[39m     unregister_hooks = _register_logging_hooks_on_whole_graph(t_outputs)\n\u001b[32m    823\u001b[39m \u001b[38;5;28;01mtry\u001b[39;00m:\n\u001b[32m--> \u001b[39m\u001b[32m824\u001b[39m     \u001b[38;5;28;01mreturn\u001b[39;00m \u001b[43mVariable\u001b[49m\u001b[43m.\u001b[49m\u001b[43m_execution_engine\u001b[49m\u001b[43m.\u001b[49m\u001b[43mrun_backward\u001b[49m\u001b[43m(\u001b[49m\u001b[43m  \u001b[49m\u001b[38;5;66;43;03m# Calls into the C++ engine to run the backward pass\u001b[39;49;00m\n\u001b[32m    825\u001b[39m \u001b[43m        \u001b[49m\u001b[43mt_outputs\u001b[49m\u001b[43m,\u001b[49m\u001b[43m \u001b[49m\u001b[43m*\u001b[49m\u001b[43margs\u001b[49m\u001b[43m,\u001b[49m\u001b[43m \u001b[49m\u001b[43m*\u001b[49m\u001b[43m*\u001b[49m\u001b[43mkwargs\u001b[49m\n\u001b[32m    826\u001b[39m \u001b[43m    \u001b[49m\u001b[43m)\u001b[49m  \u001b[38;5;66;03m# Calls into the C++ engine to run the backward pass\u001b[39;00m\n\u001b[32m    827\u001b[39m \u001b[38;5;28;01mfinally\u001b[39;00m:\n\u001b[32m    828\u001b[39m     \u001b[38;5;28;01mif\u001b[39;00m attach_logging_hooks:\n",
      "\u001b[31mRuntimeError\u001b[39m: to(options) doesn't support converting to a different layout, but got self.layout being Strided and options.layout set as SparseCsr"
     ]
    }
   ],
   "source": [
    "%lprun -f f f()"
   ]
  },
  {
   "cell_type": "code",
   "execution_count": 179,
   "id": "91ef31ac-b8c9-4279-9320-63a4b9d25538",
   "metadata": {},
   "outputs": [
    {
     "name": "stdout",
     "output_type": "stream",
     "text": [
      "420 ms ± 45.7 μs per loop (mean ± std. dev. of 7 runs, 10 loops each)\n"
     ]
    }
   ],
   "source": [
    "%timeit f()"
   ]
  },
  {
   "cell_type": "code",
   "execution_count": 18,
   "id": "a7c310a3-f965-48c0-bb4e-07e0c8d27ad2",
   "metadata": {},
   "outputs": [
    {
     "name": "stdout",
     "output_type": "stream",
     "text": [
      "tensor([0.3855, 0.2998, 0.3855])\n"
     ]
    }
   ],
   "source": [
    "a = torch.randn(3,2).half().cuda()\n",
    "i = torch.LongTensor([[0, 1, 1],  [2, 0, 2]])\n",
    "v = torch.tensor([3., 4, 5], requires_grad=True)\n",
    "b = torch.sparse_coo_tensor(i, v, (2,3), dtype=torch.float16, device='cuda')\n",
    "b = b.to_sparse_csr()\n",
    "loss = (b @ a).mean()\n",
    "loss.backward()\n",
    "print(v.grad)"
   ]
  },
  {
   "cell_type": "code",
   "execution_count": 71,
   "id": "fe628705-5c33-4574-828b-439c0d79efcd",
   "metadata": {},
   "outputs": [
    {
     "data": {
      "text/plain": [
       "tensor([[  -4.6922,  -39.6140,   58.7204,  ...,   26.2005, -101.5606,\n",
       "          -41.4297],\n",
       "        [  14.5221,   32.1038,  -86.0991,  ...,   -2.1203,  -39.3223,\n",
       "          -47.0401],\n",
       "        [  32.7616,   47.8360,  120.8648,  ...,   76.2989,   22.3357,\n",
       "           34.6215],\n",
       "        ...,\n",
       "        [  31.4464,  -60.8588,  -49.7596,  ...,   -4.3467,    0.6159,\n",
       "          -49.7129],\n",
       "        [  12.2511,  -44.5404,   28.3795,  ...,   -3.8902,  -36.0490,\n",
       "          -10.4649],\n",
       "        [   2.3126,  -11.4291,  -30.5819,  ...,   -4.5334,  -11.0951,\n",
       "          -65.2871]], device='cuda:0', grad_fn=<MmBackward0>)"
      ]
     },
     "execution_count": 71,
     "metadata": {},
     "output_type": "execute_result"
    }
   ],
   "source": [
    "import torch.nn.functional as F\n"
   ]
  },
  {
   "cell_type": "code",
   "execution_count": 17,
   "id": "b1d9ded8-7e02-4182-8f10-f22ff822cd8b",
   "metadata": {},
   "outputs": [
    {
     "data": {
      "text/plain": [
       "<matplotlib.image.AxesImage at 0x154c1c92d970>"
      ]
     },
     "execution_count": 17,
     "metadata": {},
     "output_type": "execute_result"
    },
    {
     "data": {
      "image/png": "[encoded data removed]",
      "text/plain": [
       "<Figure size 640x480 with 1 Axes>"
      ]
     },
     "metadata": {},
     "output_type": "display_data"
    }
   ],
   "source": [
    "from matplotlib import pyplot as plt\n",
    "plt.imshow(to_bsr.to_dense().cpu().detach().numpy())"
   ]
  },
  {
   "cell_type": "code",
   "execution_count": 2,
   "id": "fd60c61d-ed00-4acf-b321-40a95c76c122",
   "metadata": {},
   "outputs": [],
   "source": [
    "# from matplotlib import pyplot as plt\n",
    "# plt.imshow(s.to_dense().detach().cpu().numpy())"
   ]
  },
  {
   "cell_type": "code",
   "execution_count": 3,
   "id": "34e4f4bd-95cb-47b8-8dcd-63a7bfe18d8a",
   "metadata": {},
   "outputs": [
    {
     "name": "stdout",
     "output_type": "stream",
     "text": [
      "72.1 μs ± 149 ns per loop (mean ± std. dev. of 7 runs, 10,000 loops each)\n"
     ]
    }
   ],
   "source": [
    "%timeit torch.matmul(to_bsr, node_features.T)"
   ]
  },
  {
   "cell_type": "code",
   "execution_count": 113,
   "id": "b074f140-a0d2-46ed-9543-0551292214b4",
   "metadata": {},
   "outputs": [
    {
     "ename": "RuntimeError",
     "evalue": "derivative for aten::sparse_compressed_tensor is not implemented",
     "output_type": "error",
     "traceback": [
      "\u001b[31m---------------------------------------------------------------------------\u001b[39m",
      "\u001b[31mRuntimeError\u001b[39m                              Traceback (most recent call last)",
      "\u001b[36mCell\u001b[39m\u001b[36m \u001b[39m\u001b[32mIn[114]\u001b[39m\u001b[32m, line 13\u001b[39m\n\u001b[32m     11\u001b[39m \u001b[38;5;66;03m# s = s.to_dense()\u001b[39;00m\n\u001b[32m     12\u001b[39m loss = torch.sparse.mm(s, v2).sum()\n\u001b[32m---> \u001b[39m\u001b[32m13\u001b[39m \u001b[43mloss\u001b[49m\u001b[43m.\u001b[49m\u001b[43mbackward\u001b[49m\u001b[43m(\u001b[49m\u001b[43m)\u001b[49m\n",
      "\u001b[36mFile \u001b[39m\u001b[32m~/tmp/algorithms-decoder/.venv/lib/python3.12/site-packages/torch/_tensor.py:648\u001b[39m, in \u001b[36mTensor.backward\u001b[39m\u001b[34m(self, gradient, retain_graph, create_graph, inputs)\u001b[39m\n\u001b[32m    638\u001b[39m \u001b[38;5;28;01mif\u001b[39;00m has_torch_function_unary(\u001b[38;5;28mself\u001b[39m):\n\u001b[32m    639\u001b[39m     \u001b[38;5;28;01mreturn\u001b[39;00m handle_torch_function(\n\u001b[32m    640\u001b[39m         Tensor.backward,\n\u001b[32m    641\u001b[39m         (\u001b[38;5;28mself\u001b[39m,),\n\u001b[32m   (...)\u001b[39m\u001b[32m    646\u001b[39m         inputs=inputs,\n\u001b[32m    647\u001b[39m     )\n\u001b[32m--> \u001b[39m\u001b[32m648\u001b[39m \u001b[43mtorch\u001b[49m\u001b[43m.\u001b[49m\u001b[43mautograd\u001b[49m\u001b[43m.\u001b[49m\u001b[43mbackward\u001b[49m\u001b[43m(\u001b[49m\n\u001b[32m    649\u001b[39m \u001b[43m    \u001b[49m\u001b[38;5;28;43mself\u001b[39;49m\u001b[43m,\u001b[49m\u001b[43m \u001b[49m\u001b[43mgradient\u001b[49m\u001b[43m,\u001b[49m\u001b[43m \u001b[49m\u001b[43mretain_graph\u001b[49m\u001b[43m,\u001b[49m\u001b[43m \u001b[49m\u001b[43mcreate_graph\u001b[49m\u001b[43m,\u001b[49m\u001b[43m \u001b[49m\u001b[43minputs\u001b[49m\u001b[43m=\u001b[49m\u001b[43minputs\u001b[49m\n\u001b[32m    650\u001b[39m \u001b[43m\u001b[49m\u001b[43m)\u001b[49m\n",
      "\u001b[36mFile \u001b[39m\u001b[32m~/tmp/algorithms-decoder/.venv/lib/python3.12/site-packages/torch/autograd/__init__.py:353\u001b[39m, in \u001b[36mbackward\u001b[39m\u001b[34m(tensors, grad_tensors, retain_graph, create_graph, grad_variables, inputs)\u001b[39m\n\u001b[32m    348\u001b[39m     retain_graph = create_graph\n\u001b[32m    350\u001b[39m \u001b[38;5;66;03m# The reason we repeat the same comment below is that\u001b[39;00m\n\u001b[32m    351\u001b[39m \u001b[38;5;66;03m# some Python versions print out the first line of a multi-line function\u001b[39;00m\n\u001b[32m    352\u001b[39m \u001b[38;5;66;03m# calls in the traceback and some print out the last line\u001b[39;00m\n\u001b[32m--> \u001b[39m\u001b[32m353\u001b[39m \u001b[43m_engine_run_backward\u001b[49m\u001b[43m(\u001b[49m\n\u001b[32m    354\u001b[39m \u001b[43m    \u001b[49m\u001b[43mtensors\u001b[49m\u001b[43m,\u001b[49m\n\u001b[32m    355\u001b[39m \u001b[43m    \u001b[49m\u001b[43mgrad_tensors_\u001b[49m\u001b[43m,\u001b[49m\n\u001b[32m    356\u001b[39m \u001b[43m    \u001b[49m\u001b[43mretain_graph\u001b[49m\u001b[43m,\u001b[49m\n\u001b[32m    357\u001b[39m \u001b[43m    \u001b[49m\u001b[43mcreate_graph\u001b[49m\u001b[43m,\u001b[49m\n\u001b[32m    358\u001b[39m \u001b[43m    \u001b[49m\u001b[43minputs\u001b[49m\u001b[43m,\u001b[49m\n\u001b[32m    359\u001b[39m \u001b[43m    \u001b[49m\u001b[43mallow_unreachable\u001b[49m\u001b[43m=\u001b[49m\u001b[38;5;28;43;01mTrue\u001b[39;49;00m\u001b[43m,\u001b[49m\n\u001b[32m    360\u001b[39m \u001b[43m    \u001b[49m\u001b[43maccumulate_grad\u001b[49m\u001b[43m=\u001b[49m\u001b[38;5;28;43;01mTrue\u001b[39;49;00m\u001b[43m,\u001b[49m\n\u001b[32m    361\u001b[39m \u001b[43m\u001b[49m\u001b[43m)\u001b[49m\n",
      "\u001b[36mFile \u001b[39m\u001b[32m~/tmp/algorithms-decoder/.venv/lib/python3.12/site-packages/torch/autograd/graph.py:824\u001b[39m, in \u001b[36m_engine_run_backward\u001b[39m\u001b[34m(t_outputs, *args, **kwargs)\u001b[39m\n\u001b[32m    822\u001b[39m     unregister_hooks = _register_logging_hooks_on_whole_graph(t_outputs)\n\u001b[32m    823\u001b[39m \u001b[38;5;28;01mtry\u001b[39;00m:\n\u001b[32m--> \u001b[39m\u001b[32m824\u001b[39m     \u001b[38;5;28;01mreturn\u001b[39;00m \u001b[43mVariable\u001b[49m\u001b[43m.\u001b[49m\u001b[43m_execution_engine\u001b[49m\u001b[43m.\u001b[49m\u001b[43mrun_backward\u001b[49m\u001b[43m(\u001b[49m\u001b[43m  \u001b[49m\u001b[38;5;66;43;03m# Calls into the C++ engine to run the backward pass\u001b[39;49;00m\n\u001b[32m    825\u001b[39m \u001b[43m        \u001b[49m\u001b[43mt_outputs\u001b[49m\u001b[43m,\u001b[49m\u001b[43m \u001b[49m\u001b[43m*\u001b[49m\u001b[43margs\u001b[49m\u001b[43m,\u001b[49m\u001b[43m \u001b[49m\u001b[43m*\u001b[49m\u001b[43m*\u001b[49m\u001b[43mkwargs\u001b[49m\n\u001b[32m    826\u001b[39m \u001b[43m    \u001b[49m\u001b[43m)\u001b[49m  \u001b[38;5;66;03m# Calls into the C++ engine to run the backward pass\u001b[39;00m\n\u001b[32m    827\u001b[39m \u001b[38;5;28;01mfinally\u001b[39;00m:\n\u001b[32m    828\u001b[39m     \u001b[38;5;28;01mif\u001b[39;00m attach_logging_hooks:\n",
      "\u001b[31mRuntimeError\u001b[39m: derivative for aten::sparse_compressed_tensor is not implemented"
     ]
    }
   ],
   "source": [
    "i = torch.tensor([[0, 1], [1, 0]])\n",
    "v =  torch.tensor([3, 5.], requires_grad=True, dtype=torch.float32)\n",
    "s = torch.sparse_coo_tensor(i, v, (2, 2), requires_grad=True)\n",
    "\n",
    "# crow_indices = torch.tensor([0, 2, 4])\n",
    "# col_indices = torch.tensor([0, 1, 0, 1])\n",
    "# values = torch.tensor([1., 2, 3, 4], requires_grad=True)\n",
    "# s = torch.sparse_csr_tensor(crow_indices, col_indices, values)\n",
    "\n",
    "v2 = torch.randn((2,1))\n",
    "# s = s.to_dense()\n",
    "loss = torch.sparse.mm(s, v2).sum()\n",
    "loss.backward()\n"
   ]
  },
  {
   "cell_type": "code",
   "execution_count": 78,
   "id": "771f4d72-adef-41ed-85bc-2217f268ecb2",
   "metadata": {},
   "outputs": [
    {
     "name": "stdout",
     "output_type": "stream",
     "text": [
      "torch.sparse_coo torch.strided\n"
     ]
    }
   ],
   "source": [
    "a = torch.randn(2, 3).to_sparse().requires_grad_(True)\n",
    "b = torch.randn(2, 3, requires_grad=True)\n",
    "print(a.layout, b.layout)\n",
    "\n",
    "torch.sparse.mm(a,b.t()).sum().backward()"
   ]
  }
 ],
 "metadata": {
  "kernelspec": {
   "display_name": "alg3.12",
   "language": "python",
   "name": "alg3.12"
  },
  "language_info": {
   "codemirror_mode": {
    "name": "ipython",
    "version": 3
   },
   "file_extension": ".py",
   "mimetype": "text/x-python",
   "name": "python",
   "nbconvert_exporter": "python",
   "pygments_lexer": "ipython3",
   "version": "3.12.11"
  }
 },
 "nbformat": 4,
 "nbformat_minor": 5
}
